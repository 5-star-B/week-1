{
  "nbformat": 4,
  "nbformat_minor": 0,
  "metadata": {
    "colab": {
      "provenance": [],
      "mount_file_id": "1P5bEve3ENxgYTHchOlf_e5OFTyo2wyQc",
      "authorship_tag": "ABX9TyMmEWqvtiqBnc1nwpsd1ahF",
      "include_colab_link": true
    },
    "kernelspec": {
      "name": "python3",
      "display_name": "Python 3"
    },
    "language_info": {
      "name": "python"
    }
  },
  "cells": [
    {
      "cell_type": "markdown",
      "metadata": {
        "id": "view-in-github",
        "colab_type": "text"
      },
      "source": [
        "<a href=\"https://colab.research.google.com/github/5-star-B/week-1/blob/main/histogram.ipynb\" target=\"_parent\"><img src=\"https://colab.research.google.com/assets/colab-badge.svg\" alt=\"Open In Colab\"/></a>"
      ]
    },
    {
      "cell_type": "code",
      "execution_count": 5,
      "metadata": {
        "colab": {
          "base_uri": "https://localhost:8080/"
        },
        "id": "XAqZuDJUQG74",
        "outputId": "dce57aa3-fd7b-4cee-c4b5-199e4a73aef1"
      },
      "outputs": [
        {
          "output_type": "stream",
          "name": "stdout",
          "text": [
            "Mode of the degree of high school : 80-90\n"
          ]
        }
      ],
      "source": [
        "import pandas as pd\n",
        "from statistics import mode\n",
        "path = \"/content/drive/MyDrive/statistic/high school data set.csv\"\n",
        "\n",
        "data = pd.read_csv(path)\n",
        "\n",
        "column_mode = mode(data['دەرەجەی پۆلی ١٢ چەند بوو؟'])\n",
        "\n",
        "print('Mode of', 'the degree of high school', ':', column_mode)\n",
        "\n"
      ]
    }
  ]
}