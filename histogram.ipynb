{
  "nbformat": 4,
  "nbformat_minor": 0,
  "metadata": {
    "colab": {
      "provenance": [],
      "mount_file_id": "1P5bEve3ENxgYTHchOlf_e5OFTyo2wyQc",
      "authorship_tag": "ABX9TyNYORCQnCRnHtozzyUv2EK9",
      "include_colab_link": true
    },
    "kernelspec": {
      "name": "python3",
      "display_name": "Python 3"
    },
    "language_info": {
      "name": "python"
    }
  },
  "cells": [
    {
      "cell_type": "markdown",
      "metadata": {
        "id": "view-in-github",
        "colab_type": "text"
      },
      "source": [
        "<a href=\"https://colab.research.google.com/github/5-star-B/week-1/blob/main/histogram.ipynb\" target=\"_parent\"><img src=\"https://colab.research.google.com/assets/colab-badge.svg\" alt=\"Open In Colab\"/></a>"
      ]
    },
    {
      "cell_type": "code",
      "execution_count": 2,
      "metadata": {
        "colab": {
          "base_uri": "https://localhost:8080/",
          "height": 295
        },
        "id": "XAqZuDJUQG74",
        "outputId": "4105a1cf-ae81-4f19-fd65-f53aa57b410a"
      },
      "outputs": [
        {
          "output_type": "display_data",
          "data": {
            "text/plain": [
              "<Figure size 432x288 with 1 Axes>"
            ],
            "image/png": "[encoded data removed]"
          },
          "metadata": {
            "needs_background": "light"
          }
        }
      ],
      "source": [
        "import pandas as pd\n",
        "import matplotlib.pyplot as plt\n",
        "\n",
        "path = \"/content/drive/MyDrive/statistic/high school data set.csv\"\n",
        "\n",
        "df = pd.read_csv(path)\n",
        "\n",
        "column_to_plot = 'دەرەجەی پۆلی ١٢ چەند بوو؟'\n",
        "\n",
        "plt.hist(df[column_to_plot], bins=10)\n",
        "\n",
        "plt.xlabel('degree')\n",
        "plt.ylabel('Frequency')\n",
        "\n",
        "plt.title('Histogram of Data from CSV')\n",
        "\n",
        "plt.show()\n",
        "\n"
      ]
    }
  ]
}