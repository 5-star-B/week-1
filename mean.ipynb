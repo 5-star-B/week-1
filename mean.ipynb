{
  "nbformat": 4,
  "nbformat_minor": 0,
  "metadata": {
    "colab": {
      "provenance": [],
      "mount_file_id": "1P5bEve3ENxgYTHchOlf_e5OFTyo2wyQc",
      "authorship_tag": "ABX9TyNOSQUP0HkZoq7D00BBC8Yf",
      "include_colab_link": true
    },
    "kernelspec": {
      "name": "python3",
      "display_name": "Python 3"
    },
    "language_info": {
      "name": "python"
    }
  },
  "cells": [
    {
      "cell_type": "markdown",
      "metadata": {
        "id": "view-in-github",
        "colab_type": "text"
      },
      "source": [
        "<a href=\"https://colab.research.google.com/github/5-star-B/week-1/blob/main/mean.ipynb\" target=\"_parent\"><img src=\"https://colab.research.google.com/assets/colab-badge.svg\" alt=\"Open In Colab\"/></a>"
      ]
    },
    {
      "cell_type": "code",
      "execution_count": 8,
      "metadata": {
        "colab": {
          "base_uri": "https://localhost:8080/"
        },
        "id": "XAqZuDJUQG74",
        "outputId": "8822012d-94a1-4e43-a20f-81db5627073f"
      },
      "outputs": [
        {
          "output_type": "stream",
          "name": "stdout",
          "text": [
            "Mean of the degree of 2021 : 87.96153846153847\n"
          ]
        }
      ],
      "source": [
        "import pandas as pd\n",
        "\n",
        "path = \"/content/drive/MyDrive/statistic/high school data set.csv\"\n",
        "\n",
        "df = pd.read_csv(path)\n",
        "\n",
        "column_mean = data['دەرەجەکەت چەند بوو؟'].mean()\n",
        "\n",
        "print('Mean of', 'the degree of 2021', ':', column_mean)\n",
        "\n",
        "\n"
      ]
    }
  ]
}