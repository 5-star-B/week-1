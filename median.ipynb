{
  "nbformat": 4,
  "nbformat_minor": 0,
  "metadata": {
    "colab": {
      "provenance": [],
      "mount_file_id": "1P5bEve3ENxgYTHchOlf_e5OFTyo2wyQc",
      "authorship_tag": "ABX9TyPIYZh8TRpSEsL+sEy1b4+y",
      "include_colab_link": true
    },
    "kernelspec": {
      "name": "python3",
      "display_name": "Python 3"
    },
    "language_info": {
      "name": "python"
    }
  },
  "cells": [
    {
      "cell_type": "markdown",
      "metadata": {
        "id": "view-in-github",
        "colab_type": "text"
      },
      "source": [
        "<a href=\"https://colab.research.google.com/github/5-star-B/week-1/blob/main/median.ipynb\" target=\"_parent\"><img src=\"https://colab.research.google.com/assets/colab-badge.svg\" alt=\"Open In Colab\"/></a>"
      ]
    },
    {
      "cell_type": "code",
      "execution_count": 7,
      "metadata": {
        "colab": {
          "base_uri": "https://localhost:8080/"
        },
        "id": "XAqZuDJUQG74",
        "outputId": "328f70b5-1b6d-4c80-aa74-034205eb9127"
      },
      "outputs": [
        {
          "output_type": "stream",
          "name": "stdout",
          "text": [
            "Median of this year that you finished high school : 2020.0\n"
          ]
        }
      ],
      "source": [
        "import pandas as pd\n",
        "\n",
        "path = \"/content/drive/MyDrive/statistic/high school data set.csv\"\n",
        "\n",
        "df = pd.read_csv(path)\n",
        "\n",
        "column_median = data['ساڵی چەند خوێندنت تەواو کرد؟'].median()\n",
        "\n",
        "print('Median of', 'this year that you finished high school', ':', column_median)\n",
        "\n",
        "\n"
      ]
    }
  ]
}