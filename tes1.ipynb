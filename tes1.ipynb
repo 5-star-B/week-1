{
  "nbformat": 4,
  "nbformat_minor": 0,
  "metadata": {
    "colab": {
      "provenance": [],
      "authorship_tag": "ABX9TyNoJoeBN3aGbroonEh82NGd",
      "include_colab_link": true
    },
    "kernelspec": {
      "name": "python3",
      "display_name": "Python 3"
    },
    "language_info": {
      "name": "python"
    }
  },
  "cells": [
    {
      "cell_type": "markdown",
      "metadata": {
        "id": "view-in-github",
        "colab_type": "text"
      },
      "source": [
        "<a href=\"https://colab.research.google.com/github/5-star-B/week-1/blob/main/tes1.ipynb\" target=\"_parent\"><img src=\"https://colab.research.google.com/assets/colab-badge.svg\" alt=\"Open In Colab\"/></a>"
      ]
    },
    {
      "cell_type": "code",
      "execution_count": 1,
      "metadata": {
        "colab": {
          "base_uri": "https://localhost:8080/"
        },
        "id": "xM9Cr9hSLldz",
        "outputId": "9c853d28-9eaa-4ce4-9587-a7a401f6f6a9"
      },
      "outputs": [
        {
          "output_type": "stream",
          "name": "stdout",
          "text": [
            "Mounted at /content/drive\n"
          ]
        }
      ],
      "source": [
        "from google.colab import drive\n",
        "drive.mount('/content/drive')\n"
      ]
    },
    {
      "cell_type": "code",
      "source": [
        "!git clone https://github.com/5-star-B/week-1\n"
      ],
      "metadata": {
        "colab": {
          "base_uri": "https://localhost:8080/"
        },
        "id": "9x3UQRW8L1DZ",
        "outputId": "63926e64-82d5-4a4e-c573-bfc6f04dda01"
      },
      "execution_count": 5,
      "outputs": [
        {
          "output_type": "stream",
          "name": "stdout",
          "text": [
            "Cloning into 'week-1'...\n",
            "remote: Enumerating objects: 31, done.\u001b[K\n",
            "remote: Counting objects: 100% (31/31), done.\u001b[K\n",
            "remote: Compressing objects: 100% (25/25), done.\u001b[K\n",
            "remote: Total 31 (delta 7), reused 0 (delta 0), pack-reused 0\u001b[K\n",
            "Unpacking objects: 100% (31/31), 102.45 KiB | 2.85 MiB/s, done.\n"
          ]
        }
      ]
    },
    {
      "cell_type": "code",
      "source": [
        "cd week-1\n"
      ],
      "metadata": {
        "colab": {
          "base_uri": "https://localhost:8080/"
        },
        "id": "0kBUOgywMRjm",
        "outputId": "73db7333-eba2-4cb0-e6bd-0b82a6655cbb"
      },
      "execution_count": 7,
      "outputs": [
        {
          "output_type": "stream",
          "name": "stdout",
          "text": [
            "/content/week-1\n"
          ]
        }
      ]
    },
    {
      "cell_type": "code",
      "source": [
        "!python High_school_.ipynb"
      ],
      "metadata": {
        "colab": {
          "base_uri": "https://localhost:8080/"
        },
        "id": "HFiUnmC3Mjri",
        "outputId": "2a6cf3fd-5d5f-4822-8734-48c86fec1320"
      },
      "execution_count": 9,
      "outputs": [
        {
          "output_type": "stream",
          "name": "stdout",
          "text": [
            "Traceback (most recent call last):\n",
            "  File \"/content/week-1/High_school_.ipynb\", line 8, in <module>\n",
            "    \"include_colab_link\": true\n",
            "NameError: name 'true' is not defined\n"
          ]
        }
      ]
    },
    {
      "cell_type": "code",
      "source": [
        "import pandas as pd\n",
        "import numpy as np"
      ],
      "metadata": {
        "id": "TFV0FZWXM3BC"
      },
      "execution_count": 10,
      "outputs": []
    },
    {
      "cell_type": "code",
      "source": [
        "mydata = pd.read_excel('high school data set 2.xlsx')"
      ],
      "metadata": {
        "id": "66Fum4SIM7tF"
      },
      "execution_count": 12,
      "outputs": []
    },
    {
      "cell_type": "code",
      "source": [
        "mydata.head(5)"
      ],
      "metadata": {
        "colab": {
          "base_uri": "https://localhost:8080/",
          "height": 354
        },
        "id": "buz6uiiDNKqw",
        "outputId": "1eb14f7f-f68f-4056-afb9-1e044b41289e"
      },
      "execution_count": 13,
      "outputs": [
        {
          "output_type": "execute_result",
          "data": {
            "text/plain": [
              "                Timestamp                  ناوی سیانی ڕەگەز  \\\n",
              "0 2023-02-22 15:48:04.495            Hiwa jamal kamil  Male   \n",
              "1 2023-02-22 16:33:57.769                   Bawka yad  Male   \n",
              "2 2023-02-22 16:36:31.180           zheer kamal ahmad  Male   \n",
              "3 2023-02-22 16:37:01.024  Zanyar Khalid Karim Nader   Male   \n",
              "4 2023-02-22 16:38:16.183          Mir Jalal Mohammed  Male   \n",
              "\n",
              "  دەرەجەی پۆلی ١٢ چەند بوو؟  ساڵی چەند خوێندنت تەواو کرد؟  \\\n",
              "0                     80-90                          2020   \n",
              "1                     80-90                          2021   \n",
              "2                     80-90                          2019   \n",
              "3                    90-100                          2019   \n",
              "4                     80-90                          2020   \n",
              "\n",
              "  دوای پۆلی ١٢ وازت لە خوێندن هێناوە یان لە زانکۆیت و بەردەوامیت لە خوێندن  \\\n",
              "0                                بەردەوامم لە خوێندن                         \n",
              "1                                بەردەوامم لە خوێندن                         \n",
              "2                                        وازم هیناوە                         \n",
              "3                                بەردەوامم لە خوێندن                         \n",
              "4                                        وازم هیناوە                         \n",
              "\n",
              "   دەرەجەکەت چەند بوو؟  \n",
              "0                  NaN  \n",
              "1                 86.0  \n",
              "2                  NaN  \n",
              "3                  NaN  \n",
              "4                  NaN  "
            ],
            "text/html": [
              "\n",
              "  <div id=\"df-43516064-557b-42d2-b9d6-766a1b69aafe\">\n",
              "    <div class=\"colab-df-container\">\n",
              "      <div>\n",
              "<style scoped>\n",
              "    .dataframe tbody tr th:only-of-type {\n",
              "        vertical-align: middle;\n",
              "    }\n",
              "\n",
              "    .dataframe tbody tr th {\n",
              "        vertical-align: top;\n",
              "    }\n",
              "\n",
              "    .dataframe thead th {\n",
              "        text-align: right;\n",
              "    }\n",
              "</style>\n",
              "<table border=\"1\" class=\"dataframe\">\n",
              "  <thead>\n",
              "    <tr style=\"text-align: right;\">\n",
              "      <th></th>\n",
              "      <th>Timestamp</th>\n",
              "      <th>ناوی سیانی</th>\n",
              "      <th>ڕەگەز</th>\n",
              "      <th>دەرەجەی پۆلی ١٢ چەند بوو؟</th>\n",
              "      <th>ساڵی چەند خوێندنت تەواو کرد؟</th>\n",
              "      <th>دوای پۆلی ١٢ وازت لە خوێندن هێناوە یان لە زانکۆیت و بەردەوامیت لە خوێندن</th>\n",
              "      <th>دەرەجەکەت چەند بوو؟</th>\n",
              "    </tr>\n",
              "  </thead>\n",
              "  <tbody>\n",
              "    <tr>\n",
              "      <th>0</th>\n",
              "      <td>2023-02-22 15:48:04.495</td>\n",
              "      <td>Hiwa jamal kamil</td>\n",
              "      <td>Male</td>\n",
              "      <td>80-90</td>\n",
              "      <td>2020</td>\n",
              "      <td>بەردەوامم لە خوێندن</td>\n",
              "      <td>NaN</td>\n",
              "    </tr>\n",
              "    <tr>\n",
              "      <th>1</th>\n",
              "      <td>2023-02-22 16:33:57.769</td>\n",
              "      <td>Bawka yad</td>\n",
              "      <td>Male</td>\n",
              "      <td>80-90</td>\n",
              "      <td>2021</td>\n",
              "      <td>بەردەوامم لە خوێندن</td>\n",
              "      <td>86.0</td>\n",
              "    </tr>\n",
              "    <tr>\n",
              "      <th>2</th>\n",
              "      <td>2023-02-22 16:36:31.180</td>\n",
              "      <td>zheer kamal ahmad</td>\n",
              "      <td>Male</td>\n",
              "      <td>80-90</td>\n",
              "      <td>2019</td>\n",
              "      <td>وازم هیناوە</td>\n",
              "      <td>NaN</td>\n",
              "    </tr>\n",
              "    <tr>\n",
              "      <th>3</th>\n",
              "      <td>2023-02-22 16:37:01.024</td>\n",
              "      <td>Zanyar Khalid Karim Nader</td>\n",
              "      <td>Male</td>\n",
              "      <td>90-100</td>\n",
              "      <td>2019</td>\n",
              "      <td>بەردەوامم لە خوێندن</td>\n",
              "      <td>NaN</td>\n",
              "    </tr>\n",
              "    <tr>\n",
              "      <th>4</th>\n",
              "      <td>2023-02-22 16:38:16.183</td>\n",
              "      <td>Mir Jalal Mohammed</td>\n",
              "      <td>Male</td>\n",
              "      <td>80-90</td>\n",
              "      <td>2020</td>\n",
              "      <td>وازم هیناوە</td>\n",
              "      <td>NaN</td>\n",
              "    </tr>\n",
              "  </tbody>\n",
              "</table>\n",
              "</div>\n",
              "      <button class=\"colab-df-convert\" onclick=\"convertToInteractive('df-43516064-557b-42d2-b9d6-766a1b69aafe')\"\n",
              "              title=\"Convert this dataframe to an interactive table.\"\n",
              "              style=\"display:none;\">\n",
              "        \n",
              "  <svg xmlns=\"http://www.w3.org/2000/svg\" height=\"24px\"viewBox=\"0 0 24 24\"\n",
              "       width=\"24px\">\n",
              "    <path d=\"M0 0h24v24H0V0z\" fill=\"none\"/>\n",
              "    <path d=\"M18.56 5.44l.94 2.06.94-2.06 2.06-.94-2.06-.94-.94-2.06-.94 2.06-2.06.94zm-11 1L8.5 8.5l.94-2.06 2.06-.94-2.06-.94L8.5 2.5l-.94 2.06-2.06.94zm10 10l.94 2.06.94-2.06 2.06-.94-2.06-.94-.94-2.06-.94 2.06-2.06.94z\"/><path d=\"M17.41 7.96l-1.37-1.37c-.4-.4-.92-.59-1.43-.59-.52 0-1.04.2-1.43.59L10.3 9.45l-7.72 7.72c-.78.78-.78 2.05 0 2.83L4 21.41c.39.39.9.59 1.41.59.51 0 1.02-.2 1.41-.59l7.78-7.78 2.81-2.81c.8-.78.8-2.07 0-2.86zM5.41 20L4 18.59l7.72-7.72 1.47 1.35L5.41 20z\"/>\n",
              "  </svg>\n",
              "      </button>\n",
              "      \n",
              "  <style>\n",
              "    .colab-df-container {\n",
              "      display:flex;\n",
              "      flex-wrap:wrap;\n",
              "      gap: 12px;\n",
              "    }\n",
              "\n",
              "    .colab-df-convert {\n",
              "      background-color: #E8F0FE;\n",
              "      border: none;\n",
              "      border-radius: 50%;\n",
              "      cursor: pointer;\n",
              "      display: none;\n",
              "      fill: #1967D2;\n",
              "      height: 32px;\n",
              "      padding: 0 0 0 0;\n",
              "      width: 32px;\n",
              "    }\n",
              "\n",
              "    .colab-df-convert:hover {\n",
              "      background-color: #E2EBFA;\n",
              "      box-shadow: 0px 1px 2px rgba(60, 64, 67, 0.3), 0px 1px 3px 1px rgba(60, 64, 67, 0.15);\n",
              "      fill: #174EA6;\n",
              "    }\n",
              "\n",
              "    [theme=dark] .colab-df-convert {\n",
              "      background-color: #3B4455;\n",
              "      fill: #D2E3FC;\n",
              "    }\n",
              "\n",
              "    [theme=dark] .colab-df-convert:hover {\n",
              "      background-color: #434B5C;\n",
              "      box-shadow: 0px 1px 3px 1px rgba(0, 0, 0, 0.15);\n",
              "      filter: drop-shadow(0px 1px 2px rgba(0, 0, 0, 0.3));\n",
              "      fill: #FFFFFF;\n",
              "    }\n",
              "  </style>\n",
              "\n",
              "      <script>\n",
              "        const buttonEl =\n",
              "          document.querySelector('#df-43516064-557b-42d2-b9d6-766a1b69aafe button.colab-df-convert');\n",
              "        buttonEl.style.display =\n",
              "          google.colab.kernel.accessAllowed ? 'block' : 'none';\n",
              "\n",
              "        async function convertToInteractive(key) {\n",
              "          const element = document.querySelector('#df-43516064-557b-42d2-b9d6-766a1b69aafe');\n",
              "          const dataTable =\n",
              "            await google.colab.kernel.invokeFunction('convertToInteractive',\n",
              "                                                     [key], {});\n",
              "          if (!dataTable) return;\n",
              "\n",
              "          const docLinkHtml = 'Like what you see? Visit the ' +\n",
              "            '<a target=\"_blank\" href=https://colab.research.google.com/notebooks/data_table.ipynb>data table notebook</a>'\n",
              "            + ' to learn more about interactive tables.';\n",
              "          element.innerHTML = '';\n",
              "          dataTable['output_type'] = 'display_data';\n",
              "          await google.colab.output.renderOutput(dataTable, element);\n",
              "          const docLink = document.createElement('div');\n",
              "          docLink.innerHTML = docLinkHtml;\n",
              "          element.appendChild(docLink);\n",
              "        }\n",
              "      </script>\n",
              "    </div>\n",
              "  </div>\n",
              "  "
            ]
          },
          "metadata": {},
          "execution_count": 13
        }
      ]
    }
  ]
}